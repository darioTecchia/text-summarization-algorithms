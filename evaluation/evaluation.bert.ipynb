{
 "cells": [
  {
   "cell_type": "code",
   "execution_count": 14,
   "metadata": {},
   "outputs": [],
   "source": [
    "from pprint import pprint"
   ]
  },
  {
   "cell_type": "code",
   "execution_count": 15,
   "metadata": {},
   "outputs": [],
   "source": [
    "from bert_score import score"
   ]
  },
  {
   "cell_type": "code",
   "execution_count": 16,
   "metadata": {},
   "outputs": [],
   "source": [
    "from transformers import logging\n",
    "logging.set_verbosity_error()"
   ]
  },
  {
   "cell_type": "code",
   "execution_count": 17,
   "metadata": {},
   "outputs": [],
   "source": [
    "with open('../text.txt', 'r') as file:\n",
    "    data = file.read().replace('\\n', '')"
   ]
  },
  {
   "cell_type": "code",
   "execution_count": 18,
   "metadata": {},
   "outputs": [],
   "source": [
    "import sys\n",
    "sys.path.append('..')"
   ]
  },
  {
   "cell_type": "markdown",
   "metadata": {},
   "source": [
    "## evalutate KL_SUM"
   ]
  },
  {
   "cell_type": "code",
   "execution_count": 19,
   "metadata": {},
   "outputs": [
    {
     "name": "stdout",
     "output_type": "stream",
     "text": [
      "kl_sum: \n",
      "F1 score: 0.871, Precision score: 0.927, Recall score: 0.821\n"
     ]
    }
   ],
   "source": [
    "from extractive.kl_sum.kl_sum import KLSum\n",
    "summary = KLSum().apply(data)\n",
    "P, R, F1 = score([summary], [data], lang=\"en\")\n",
    "print('kl_sum: ')\n",
    "print(f\"F1 score: {F1.mean():.3f}, Precision score: {P.mean():.3f}, Recall score: {R.mean():.3f}\")"
   ]
  },
  {
   "cell_type": "markdown",
   "metadata": {},
   "source": [
    "## evalutate lexrank"
   ]
  },
  {
   "cell_type": "code",
   "execution_count": 20,
   "metadata": {},
   "outputs": [
    {
     "name": "stdout",
     "output_type": "stream",
     "text": [
      "lexrank: \n",
      "F1 score: 0.850, Precision score: 0.890, Recall score: 0.813\n"
     ]
    }
   ],
   "source": [
    "from extractive.lexrank.lexrank import LexRank\n",
    "summary = LexRank().apply(data)\n",
    "P, R, F1 = score([summary], [data], lang=\"en\")\n",
    "print('lexrank: ')\n",
    "print(f\"F1 score: {F1.mean():.3f}, Precision score: {P.mean():.3f}, Recall score: {R.mean():.3f}\")"
   ]
  },
  {
   "cell_type": "markdown",
   "metadata": {},
   "source": [
    "## evalutate lsa"
   ]
  },
  {
   "cell_type": "code",
   "execution_count": 21,
   "metadata": {},
   "outputs": [
    {
     "name": "stdout",
     "output_type": "stream",
     "text": [
      "lsa: \n",
      "F1 score: 0.853, Precision score: 0.903, Recall score: 0.808\n"
     ]
    }
   ],
   "source": [
    "from extractive.lsa.lsa import LSA\n",
    "summary = LSA().apply(data)\n",
    "P, R, F1 = score([summary], [data], lang=\"en\")\n",
    "print('lsa: ')\n",
    "print(f\"F1 score: {F1.mean():.3f}, Precision score: {P.mean():.3f}, Recall score: {R.mean():.3f}\")"
   ]
  },
  {
   "cell_type": "markdown",
   "metadata": {},
   "source": [
    "\n",
    "## evalutate luhn"
   ]
  },
  {
   "cell_type": "code",
   "execution_count": 22,
   "metadata": {},
   "outputs": [
    {
     "name": "stdout",
     "output_type": "stream",
     "text": [
      "luhn: \n",
      "F1 score: 0.883, Precision score: 0.934, Recall score: 0.838\n"
     ]
    }
   ],
   "source": [
    "from extractive.luhn.luhn import Luhn\n",
    "summary = Luhn().apply(data)\n",
    "P, R, F1 = score([summary], [data], lang=\"en\")\n",
    "print('luhn: ')\n",
    "print(f\"F1 score: {F1.mean():.3f}, Precision score: {P.mean():.3f}, Recall score: {R.mean():.3f}\")"
   ]
  },
  {
   "cell_type": "markdown",
   "metadata": {},
   "source": [
    "\n",
    "## evalutate textrank"
   ]
  },
  {
   "cell_type": "code",
   "execution_count": 23,
   "metadata": {},
   "outputs": [
    {
     "name": "stdout",
     "output_type": "stream",
     "text": [
      "textrank: \n",
      "F1 score: 0.853, Precision score: 0.930, Recall score: 0.788\n"
     ]
    }
   ],
   "source": [
    "from extractive.textrank.textrank import TextRank\n",
    "summary = TextRank().apply(data)\n",
    "P, R, F1 = score([summary], [data], lang=\"en\")\n",
    "print('textrank: ')\n",
    "print(f\"F1 score: {F1.mean():.3f}, Precision score: {P.mean():.3f}, Recall score: {R.mean():.3f}\")"
   ]
  },
  {
   "cell_type": "markdown",
   "metadata": {},
   "source": [
    "\n",
    "## evalutate bert"
   ]
  },
  {
   "cell_type": "code",
   "execution_count": 24,
   "metadata": {},
   "outputs": [
    {
     "name": "stdout",
     "output_type": "stream",
     "text": [
      "bert: \n",
      "F1 score: 0.897, Precision score: 0.925, Recall score: 0.870\n"
     ]
    }
   ],
   "source": [
    "from extractive.bert.bert import BERT\n",
    "summary = BERT().apply(data)\n",
    "P, R, F1 = score([summary], [data], lang=\"en\")\n",
    "print('bert: ')\n",
    "print(f\"F1 score: {F1.mean():.3f}, Precision score: {P.mean():.3f}, Recall score: {R.mean():.3f}\")"
   ]
  },
  {
   "cell_type": "markdown",
   "metadata": {},
   "source": [
    "\n",
    "## evalutate T5"
   ]
  },
  {
   "cell_type": "code",
   "execution_count": 25,
   "metadata": {},
   "outputs": [
    {
     "name": "stdout",
     "output_type": "stream",
     "text": [
      "T5: \n",
      "F1 score: 0.837, Precision score: 0.902, Recall score: 0.781\n"
     ]
    }
   ],
   "source": [
    "from abstractive.T5.T5 import T5\n",
    "summary = T5().apply(data)\n",
    "P, R, F1 = score([summary], [data], lang=\"en\")\n",
    "print('T5: ')\n",
    "print(f\"F1 score: {F1.mean():.3f}, Precision score: {P.mean():.3f}, Recall score: {R.mean():.3f}\")"
   ]
  },
  {
   "cell_type": "markdown",
   "metadata": {},
   "source": [
    "\n",
    "## evalutate BART"
   ]
  },
  {
   "cell_type": "code",
   "execution_count": 26,
   "metadata": {},
   "outputs": [
    {
     "name": "stdout",
     "output_type": "stream",
     "text": [
      "BART: \n",
      "F1 score: 0.889, Precision score: 0.976, Recall score: 0.817\n"
     ]
    }
   ],
   "source": [
    "from abstractive.BART.BART import BART\n",
    "summary = BART().apply(data)\n",
    "P, R, F1 = score([summary], [data], lang=\"en\")\n",
    "print('BART: ')\n",
    "print(f\"F1 score: {F1.mean():.3f}, Precision score: {P.mean():.3f}, Recall score: {R.mean():.3f}\")"
   ]
  }
 ],
 "metadata": {
  "interpreter": {
   "hash": "aee8b7b246df8f9039afb4144a1f6fd8d2ca17a180786b69acc140d282b71a49"
  },
  "kernelspec": {
   "display_name": "Python 3.9.6 64-bit",
   "language": "python",
   "name": "python3"
  },
  "language_info": {
   "codemirror_mode": {
    "name": "ipython",
    "version": 3
   },
   "file_extension": ".py",
   "mimetype": "text/x-python",
   "name": "python",
   "nbconvert_exporter": "python",
   "pygments_lexer": "ipython3",
   "version": "3.9.6"
  },
  "orig_nbformat": 4
 },
 "nbformat": 4,
 "nbformat_minor": 2
}
