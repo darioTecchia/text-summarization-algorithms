{
 "cells": [
  {
   "cell_type": "code",
   "execution_count": 14,
   "metadata": {},
   "outputs": [],
   "source": [
    "from rouge import Rouge\n",
    "rouge = Rouge()"
   ]
  },
  {
   "cell_type": "code",
   "execution_count": 15,
   "metadata": {},
   "outputs": [],
   "source": [
    "with open('../text.txt', 'r') as file:\n",
    "    data = file.read().replace('\\n', '')"
   ]
  },
  {
   "cell_type": "code",
   "execution_count": 16,
   "metadata": {},
   "outputs": [],
   "source": [
    "from transformers import logging\n",
    "logging.set_verbosity_error()"
   ]
  },
  {
   "cell_type": "code",
   "execution_count": 17,
   "metadata": {},
   "outputs": [],
   "source": [
    "import sys\n",
    "sys.path.append('..')"
   ]
  },
  {
   "cell_type": "code",
   "execution_count": 18,
   "metadata": {},
   "outputs": [],
   "source": [
    "def print_rouge_score(score):\n",
    "    print(f\"ROUGE-1: F1 score: {score[0]['rouge-1']['f']:.3f}, Precision score: {score[0]['rouge-1']['p']:.3f}, Recall score: {score[0]['rouge-1']['r']:.3f}\")\n",
    "    print(f\"ROUGE-2: F1 score: {score[0]['rouge-2']['f']:.3f}, Precision score: {score[0]['rouge-2']['p']:.3f}, Recall score: {score[0]['rouge-2']['r']:.3f}\")\n",
    "    print(f\"ROUGE-L: F1 score: {score[0]['rouge-l']['f']:.3f}, Precision score: {score[0]['rouge-l']['p']:.3f}, Recall score: {score[0]['rouge-l']['r']:.3f}\")"
   ]
  },
  {
   "cell_type": "markdown",
   "metadata": {},
   "source": [
    "## evalutate KL_SUM"
   ]
  },
  {
   "cell_type": "code",
   "execution_count": 19,
   "metadata": {},
   "outputs": [
    {
     "name": "stdout",
     "output_type": "stream",
     "text": [
      "kl_sum: \n",
      "ROUGE-1: F1 score: 0.198, Precision score: 1.000, Recall score: 0.110\n",
      "ROUGE-2: F1 score: 0.117, Precision score: 0.958, Recall score: 0.062\n",
      "ROUGE-L: F1 score: 0.198, Precision score: 1.000, Recall score: 0.110\n"
     ]
    }
   ],
   "source": [
    "from extractive.kl_sum.kl_sum import KLSum\n",
    "summary = KLSum().apply(data)\n",
    "kl_sum_score = rouge.get_scores(summary, data)\n",
    "print('kl_sum: ')\n",
    "print_rouge_score(kl_sum_score)"
   ]
  },
  {
   "cell_type": "markdown",
   "metadata": {},
   "source": [
    "## evalutate lexrank"
   ]
  },
  {
   "cell_type": "code",
   "execution_count": 20,
   "metadata": {},
   "outputs": [
    {
     "name": "stdout",
     "output_type": "stream",
     "text": [
      "lexrank: \n",
      "ROUGE-1: F1 score: 0.207, Precision score: 1.000, Recall score: 0.115\n",
      "ROUGE-2: F1 score: 0.122, Precision score: 0.960, Recall score: 0.065\n",
      "ROUGE-L: F1 score: 0.207, Precision score: 1.000, Recall score: 0.115\n"
     ]
    }
   ],
   "source": [
    "from extractive.lexrank.lexrank import LexRank\n",
    "summary = LexRank().apply(data)\n",
    "lexrank_score = rouge.get_scores(summary, data)\n",
    "print('lexrank: ')\n",
    "print_rouge_score(lexrank_score)"
   ]
  },
  {
   "cell_type": "markdown",
   "metadata": {},
   "source": [
    "## evalutate lsa"
   ]
  },
  {
   "cell_type": "code",
   "execution_count": 21,
   "metadata": {},
   "outputs": [
    {
     "name": "stdout",
     "output_type": "stream",
     "text": [
      "lsa: \n",
      "ROUGE-1: F1 score: 0.295, Precision score: 1.000, Recall score: 0.173\n",
      "ROUGE-2: F1 score: 0.168, Precision score: 0.986, Recall score: 0.092\n",
      "ROUGE-L: F1 score: 0.295, Precision score: 1.000, Recall score: 0.173\n"
     ]
    }
   ],
   "source": [
    "from extractive.lsa.lsa import LSA\n",
    "summary = LSA().apply(data)\n",
    "lsa_score = rouge.get_scores(summary, data)\n",
    "print('lsa: ')\n",
    "print_rouge_score(lsa_score)"
   ]
  },
  {
   "cell_type": "markdown",
   "metadata": {},
   "source": [
    "## evalutate luhn"
   ]
  },
  {
   "cell_type": "code",
   "execution_count": 22,
   "metadata": {},
   "outputs": [
    {
     "name": "stdout",
     "output_type": "stream",
     "text": [
      "luhn: \n",
      "ROUGE-1: F1 score: 0.267, Precision score: 1.000, Recall score: 0.154\n",
      "ROUGE-2: F1 score: 0.175, Precision score: 0.986, Recall score: 0.096\n",
      "ROUGE-L: F1 score: 0.267, Precision score: 1.000, Recall score: 0.154\n"
     ]
    }
   ],
   "source": [
    "from extractive.luhn.luhn import Luhn\n",
    "summary = Luhn().apply(data)\n",
    "luhn_score = rouge.get_scores(summary, data)\n",
    "print('luhn: ')\n",
    "print_rouge_score(luhn_score)"
   ]
  },
  {
   "cell_type": "markdown",
   "metadata": {},
   "source": [
    "## evalutate textrank"
   ]
  },
  {
   "cell_type": "code",
   "execution_count": 23,
   "metadata": {},
   "outputs": [
    {
     "name": "stdout",
     "output_type": "stream",
     "text": [
      "textrank: \n",
      "ROUGE-1: F1 score: 0.109, Precision score: 1.000, Recall score: 0.058\n",
      "ROUGE-2: F1 score: 0.065, Precision score: 1.000, Recall score: 0.034\n",
      "ROUGE-L: F1 score: 0.109, Precision score: 1.000, Recall score: 0.058\n"
     ]
    }
   ],
   "source": [
    "from extractive.textrank.textrank import TextRank\n",
    "summary = TextRank().apply(data)\n",
    "textrank_score = rouge.get_scores(summary, data)\n",
    "print('textrank: ')\n",
    "print_rouge_score(textrank_score)"
   ]
  },
  {
   "cell_type": "markdown",
   "metadata": {},
   "source": [
    "## evalutate bert"
   ]
  },
  {
   "cell_type": "code",
   "execution_count": 24,
   "metadata": {},
   "outputs": [
    {
     "name": "stdout",
     "output_type": "stream",
     "text": [
      "bert: \n",
      "ROUGE-1: F1 score: 0.490, Precision score: 1.000, Recall score: 0.324\n",
      "ROUGE-2: F1 score: 0.362, Precision score: 0.976, Recall score: 0.222\n",
      "ROUGE-L: F1 score: 0.490, Precision score: 1.000, Recall score: 0.324\n"
     ]
    }
   ],
   "source": [
    "from extractive.bert.bert import BERT\n",
    "summary = BERT().apply(data)\n",
    "luhn_score = rouge.get_scores(summary, data)\n",
    "print('bert: ')\n",
    "print_rouge_score(luhn_score)"
   ]
  },
  {
   "cell_type": "markdown",
   "metadata": {},
   "source": [
    "## evalutate T5"
   ]
  },
  {
   "cell_type": "code",
   "execution_count": 25,
   "metadata": {},
   "outputs": [
    {
     "name": "stdout",
     "output_type": "stream",
     "text": [
      "T5: \n",
      "ROUGE-1: F1 score: 0.084, Precision score: 1.000, Recall score: 0.044\n",
      "ROUGE-2: F1 score: 0.034, Precision score: 0.867, Recall score: 0.018\n",
      "ROUGE-L: F1 score: 0.084, Precision score: 1.000, Recall score: 0.044\n"
     ]
    }
   ],
   "source": [
    "from abstractive.T5.T5 import T5\n",
    "summary = T5().apply(data)\n",
    "t5_score = rouge.get_scores(summary, data)\n",
    "print('T5: ')\n",
    "print_rouge_score(t5_score)"
   ]
  },
  {
   "cell_type": "markdown",
   "metadata": {},
   "source": [
    "## evalutate BART"
   ]
  },
  {
   "cell_type": "code",
   "execution_count": 26,
   "metadata": {},
   "outputs": [
    {
     "name": "stdout",
     "output_type": "stream",
     "text": [
      "BART: \n",
      "ROUGE-1: F1 score: 0.246, Precision score: 1.000, Recall score: 0.140\n",
      "ROUGE-2: F1 score: 0.148, Precision score: 0.983, Recall score: 0.080\n",
      "ROUGE-L: F1 score: 0.246, Precision score: 1.000, Recall score: 0.140\n"
     ]
    }
   ],
   "source": [
    "from abstractive.BART.BART import BART\n",
    "summary = BART().apply(data)\n",
    "bart_score = rouge.get_scores(summary, data)\n",
    "print('BART: ')\n",
    "print_rouge_score(bart_score)"
   ]
  }
 ],
 "metadata": {
  "interpreter": {
   "hash": "31f2aee4e71d21fbe5cf8b01ff0e069b9275f58929596ceb00d14d90e3e16cd6"
  },
  "kernelspec": {
   "display_name": "Python 3.8.2 64-bit",
   "language": "python",
   "name": "python3"
  },
  "language_info": {
   "codemirror_mode": {
    "name": "ipython",
    "version": 3
   },
   "file_extension": ".py",
   "mimetype": "text/x-python",
   "name": "python",
   "nbconvert_exporter": "python",
   "pygments_lexer": "ipython3",
   "version": "3.9.6"
  },
  "orig_nbformat": 4
 },
 "nbformat": 4,
 "nbformat_minor": 2
}
