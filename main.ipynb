{
 "cells": [
  {
   "cell_type": "code",
   "execution_count": null,
   "metadata": {},
   "outputs": [],
   "source": [
    "from runners.runner import run\n",
    "import config\n",
    "\n",
    "run('datasets/news.csv', 'outputs/all.news.summaries.csv', config.All_ALGORITHMS)\n",
    "run('datasets/reviews.csv', 'outputs/all.reviews.summaries.csv', config.All_ALGORITHMS)"
   ]
  },
  {
   "cell_type": "code",
   "execution_count": null,
   "metadata": {},
   "outputs": [],
   "source": [
    "from evaluation.evaluation_bert import run_bert\n",
    "from evaluation.evaluation_bleu import run_bleu\n",
    "from evaluation.evaluation_rouge import run_rouge\n",
    "\n",
    "run_bert(\"outputs/all.news.summaries.csv\", \"outputs/evaluation.news.bert\")\n",
    "run_bert(\"outputs/all.reviews.summaries.csv\", \"outputs/evaluation.reviews.bert\")\n",
    "\n",
    "run_bleu(\"outputs/all.news.summaries.csv\", \"outputs/evaluation.news.bleu\")\n",
    "run_bleu(\"outputs/all.reviews.summaries.csv\", \"outputs/evaluation.reviews.bleu\")\n",
    "\n",
    "run_rouge(\"outputs/all.news.summaries.csv\", \"outputs/evaluation.news.rouge\")\n",
    "run_rouge(\"outputs/all.reviews.summaries.csv\", \"outputs/evaluation.reviews.rouge\")"
   ]
  }
 ],
 "metadata": {
  "language_info": {
   "name": "python"
  },
  "orig_nbformat": 4
 },
 "nbformat": 4,
 "nbformat_minor": 2
}
